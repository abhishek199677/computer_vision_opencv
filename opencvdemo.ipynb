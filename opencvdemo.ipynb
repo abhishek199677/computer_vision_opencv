{
 "cells": [
  {
   "cell_type": "code",
   "execution_count": 1,
   "id": "def76a6d",
   "metadata": {},
   "outputs": [],
   "source": [
    "import cv2"
   ]
  },
  {
   "cell_type": "code",
   "execution_count": 2,
   "id": "7bfda464",
   "metadata": {},
   "outputs": [],
   "source": [
    "img = cv2.imread('opencv.jpg')"
   ]
  },
  {
   "cell_type": "code",
   "execution_count": 3,
   "id": "927c2b95",
   "metadata": {},
   "outputs": [
    {
     "data": {
      "text/plain": [
       "array([[[169, 186, 182],\n",
       "        [169, 186, 182],\n",
       "        [169, 186, 182],\n",
       "        ...,\n",
       "        [145, 141, 112],\n",
       "        [139, 135, 106],\n",
       "        [147, 143, 114]],\n",
       "\n",
       "       [[168, 185, 181],\n",
       "        [168, 185, 181],\n",
       "        [168, 185, 181],\n",
       "        ...,\n",
       "        [141, 137, 108],\n",
       "        [138, 134, 105],\n",
       "        [144, 140, 111]],\n",
       "\n",
       "       [[167, 184, 180],\n",
       "        [167, 184, 180],\n",
       "        [167, 184, 180],\n",
       "        ...,\n",
       "        [140, 136, 107],\n",
       "        [140, 136, 107],\n",
       "        [143, 139, 110]],\n",
       "\n",
       "       ...,\n",
       "\n",
       "       [[190, 198, 211],\n",
       "        [190, 198, 211],\n",
       "        [190, 198, 211],\n",
       "        ...,\n",
       "        [183, 186, 190],\n",
       "        [183, 186, 190],\n",
       "        [184, 187, 191]],\n",
       "\n",
       "       [[190, 198, 211],\n",
       "        [190, 198, 211],\n",
       "        [190, 198, 211],\n",
       "        ...,\n",
       "        [183, 186, 190],\n",
       "        [183, 186, 190],\n",
       "        [184, 187, 191]],\n",
       "\n",
       "       [[190, 198, 211],\n",
       "        [190, 198, 211],\n",
       "        [190, 198, 211],\n",
       "        ...,\n",
       "        [183, 186, 190],\n",
       "        [183, 186, 190],\n",
       "        [184, 187, 191]]], dtype=uint8)"
      ]
     },
     "execution_count": 3,
     "metadata": {},
     "output_type": "execute_result"
    }
   ],
   "source": [
    "img"
   ]
  },
  {
   "cell_type": "code",
   "execution_count": 4,
   "id": "4c2aa751",
   "metadata": {},
   "outputs": [
    {
     "ename": "",
     "evalue": "",
     "output_type": "error",
     "traceback": [
      "\u001b[1;31mThe Kernel crashed while executing code in the current cell or a previous cell. \n",
      "\u001b[1;31mPlease review the code in the cell(s) to identify a possible cause of the failure. \n",
      "\u001b[1;31mClick <a href='https://aka.ms/vscodeJupyterKernelCrash'>here</a> for more info. \n",
      "\u001b[1;31mView Jupyter <a href='command:jupyter.viewOutput'>log</a> for further details."
     ]
    }
   ],
   "source": [
    "cv2.imshow(\"show \" ,img)\n",
    "gray = cv2.cvtColor(img,cv2.COLOR_BGR2GRAY)\n",
    "hsv = cv2.cvtColor(img ,cv2.COLOR_BGR2HSV )\n",
    "cv2.imshow(\"gray\" , gray)\n",
    "cv2.imshow(\"hsv\",hsv)\n",
    "cv2.waitKey(0)\n",
    "cv2.destroyAllWindows()"
   ]
  },
  {
   "cell_type": "code",
   "execution_count": null,
   "id": "9c562a39",
   "metadata": {},
   "outputs": [
    {
     "data": {
      "text/plain": [
       "(1080, 1920, 3)"
      ]
     },
     "execution_count": 9,
     "metadata": {},
     "output_type": "execute_result"
    }
   ],
   "source": [
    "img.shape"
   ]
  },
  {
   "cell_type": "code",
   "execution_count": null,
   "id": "48aa9a15",
   "metadata": {},
   "outputs": [],
   "source": [
    "resize = cv2.resize(img,(300,300))\n",
    "cv2.imshow(\"resize\",resize)\n",
    "cv2.waitKey(0)\n",
    "cv2.destroyAllWindows()"
   ]
  },
  {
   "cell_type": "code",
   "execution_count": null,
   "id": "04c237ec",
   "metadata": {},
   "outputs": [],
   "source": [
    "(h,w) = img.shape[:2]"
   ]
  },
  {
   "cell_type": "code",
   "execution_count": null,
   "id": "728f8be4",
   "metadata": {},
   "outputs": [
    {
     "data": {
      "text/plain": [
       "1080"
      ]
     },
     "execution_count": 12,
     "metadata": {},
     "output_type": "execute_result"
    }
   ],
   "source": [
    "h"
   ]
  },
  {
   "cell_type": "code",
   "execution_count": null,
   "id": "5aa9e89f",
   "metadata": {},
   "outputs": [
    {
     "data": {
      "text/plain": [
       "1920"
      ]
     },
     "execution_count": 13,
     "metadata": {},
     "output_type": "execute_result"
    }
   ],
   "source": [
    "w"
   ]
  },
  {
   "cell_type": "code",
   "execution_count": null,
   "id": "af6b22d1",
   "metadata": {},
   "outputs": [],
   "source": [
    "rotate  = cv2.getRotationMatrix2D((w//2,h//4),90,0.8)\n",
    "r = cv2.warpAffine(img,rotate,(w,h))\n",
    "cv2.imshow(\"rotate\",r)\n",
    "cv2.waitKey(0)\n",
    "cv2.destroyAllWindows()"
   ]
  },
  {
   "cell_type": "code",
   "execution_count": null,
   "id": "2d2ba168",
   "metadata": {},
   "outputs": [],
   "source": [
    "import numpy as np \n",
    "M = np.float32([[1,0,200] , [0,1,500]])\n",
    "translateed = cv2.warpAffine(img,M,(w,h))\n",
    "cv2.imshow(\"transalate\",translateed)\n",
    "cv2.waitKey(0)\n",
    "cv2.destroyAllWindows()"
   ]
  },
  {
   "cell_type": "code",
   "execution_count": null,
   "id": "661a5867",
   "metadata": {},
   "outputs": [],
   "source": [
    "blur = cv2.blur(img,(20,50))\n",
    "gaussian = cv2.GaussianBlur(img , (5,25),0)\n",
    "median = cv2.medianBlur(img,31)\n",
    "cv2.imshow(\"blur\",median)\n",
    "cv2.waitKey(0)\n",
    "cv2.destroyAllWindows()"
   ]
  },
  {
   "cell_type": "code",
   "execution_count": null,
   "id": "74265880",
   "metadata": {},
   "outputs": [
    {
     "data": {
      "text/plain": [
       "array([[205, 205, 205, ...,  62,  63,  64],\n",
       "       [205, 205, 205, ...,  62,  62,  63],\n",
       "       [205, 205, 205, ...,  64,  64,  63],\n",
       "       ...,\n",
       "       [154, 153, 153, ...,  59,  60,  61],\n",
       "       [153, 153, 153, ...,  61,  62,  64],\n",
       "       [153, 153, 153, ...,  60,  61,  64]],\n",
       "      shape=(1080, 1920), dtype=uint8)"
      ]
     },
     "execution_count": 33,
     "metadata": {},
     "output_type": "execute_result"
    }
   ],
   "source": [
    "gray"
   ]
  },
  {
   "cell_type": "code",
   "execution_count": null,
   "id": "6452cef3",
   "metadata": {},
   "outputs": [],
   "source": [
    "sobel_x  = cv2.Sobel(gray,cv2.CV_64F,1,0)\n",
    "sobel_Y  = cv2.Sobel(gray,cv2.CV_64F,0,1)\n",
    "sobel = cv2.magnitude(sobel_x,sobel_Y)\n",
    "cv2.imshow(\"blur\",sobel.astype('uint8'))\n",
    "cv2.waitKey(0)\n",
    "cv2.destroyAllWindows()"
   ]
  },
  {
   "cell_type": "code",
   "execution_count": null,
   "id": "f00153bb",
   "metadata": {},
   "outputs": [],
   "source": [
    "import cv2\n",
    "img = cv2.imread('sudh.jpg')\n",
    "gray = cv2.cvtColor(img,cv2.COLOR_BGR2GRAY)\n",
    "cany = cv2.Canny(gray,100,200)\n",
    "cv2.imshow(\"blur\",cany)\n",
    "cv2.waitKey(0)\n",
    "cv2.destroyAllWindows()"
   ]
  },
  {
   "cell_type": "code",
   "execution_count": null,
   "id": "72d4b037",
   "metadata": {},
   "outputs": [],
   "source": []
  }
 ],
 "metadata": {
  "kernelspec": {
   "display_name": "fsdscv",
   "language": "python",
   "name": "python3"
  },
  "language_info": {
   "codemirror_mode": {
    "name": "ipython",
    "version": 3
   },
   "file_extension": ".py",
   "mimetype": "text/x-python",
   "name": "python",
   "nbconvert_exporter": "python",
   "pygments_lexer": "ipython3",
   "version": "3.10.16"
  }
 },
 "nbformat": 4,
 "nbformat_minor": 5
}
